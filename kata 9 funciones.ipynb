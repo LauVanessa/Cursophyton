{
 "cells": [
  {
   "cell_type": "code",
   "execution_count": 23,
   "metadata": {},
   "outputs": [
    {
     "name": "stdout",
     "output_type": "stream",
     "text": [
      "Reporte general:\n",
      "    Promedio: 80.0%\n",
      "     Tanque #1: 65%, Tanque #2: 85%, Tanque #3: 90% \n",
      "Reporte general :\n",
      "   Promedio: 80.33333333333333%\n",
      "    Tanque #1: 98%, Tanque #2: 78%, Tanque #3: 65% \n",
      "____________________________________________________________\n",
      "\n",
      "    Mision a Luna\n",
      "    Tiempo total de viaje: 65 minutos\n",
      "    Combustible restante:: 500000 galones\n",
      "    \n",
      "Mision a  Luna\n",
      "   Tiempo total de viaje: 76 minutos\n",
      "   Combustible restante: 320000 galones\n",
      "\n",
      "    Mision a  Luna\n",
      "     Tiempo total de viaje: 74 minutos\n",
      "     Combustible restante:500000 \n",
      "principal tanque 300000 galones  \n"
     ]
    }
   ],
   "source": [
    "def report (tanque_1, tanque_2, tanque_3):\n",
    "    total_prom = (tanque_1 + tanque_2 + tanque_3) / 3\n",
    "    return f\"\"\"Reporte general:\n",
    "    Promedio: {total_prom}%\n",
    "     Tanque #1: {tanque_1}%, Tanque #2: {tanque_2}%, Tanque #3: {tanque_3}% \"\"\"\n",
    "print(report(65, 85, 90))\n",
    "\n",
    "def prom (values):\n",
    "    total = sum(values)\n",
    "    number_of_items = len(values)\n",
    "    return total / number_of_items\n",
    "\n",
    "def report (tanque_1, tanque_2, tanque_3):\n",
    "    return f\"\"\"Reporte general :\n",
    "   Promedio: {prom([tanque_1, tanque_2, tanque_3])}%\n",
    "    Tanque #1: {tanque_1}%, Tanque #2: {tanque_2}%, Tanque #3: {tanque_3}% \"\"\"\n",
    "print(report(98, 78, 65))\n",
    "print('_'*60)\n",
    "\n",
    "def report_mision(prelanzamiento, hora_vuelo, destino, tanque_2, tanque_1):\n",
    "    return f\"\"\"\n",
    "    Mision a {destino}\n",
    "    Tiempo total de viaje: {prelanzamiento + hora_vuelo} minutos\n",
    "    Combustible restante:: {tanque_2 + tanque_1} galones\n",
    "    \"\"\"\n",
    "\n",
    "print(report_mision(14, 51, \"Luna\", 200000, 300000))\n",
    "\n",
    "def report_mision(destino, *minutos, **fuel_reservoirs):\n",
    "    return f\"\"\"Mision a  {destino}\n",
    "   Tiempo total de viaje: {sum(minutos)} minutos\n",
    "   Combustible restante: {sum(fuel_reservoirs.values())} galones\"\"\"\n",
    "\n",
    "print(report_mision(\"Luna\", 10, 15, 51, principal=300000, externo=20000))\n",
    "\n",
    "\n",
    "def report_mision(destino, *minutos, **fuel_reservoirs):\n",
    "    Reporte_principal = f\"\"\"\n",
    "    Mision a  {destino}\n",
    "    Tiempo total de viaje: {sum(minutos)} minutos\n",
    "    Combustible restante:{sum(fuel_reservoirs.values())} \\n\"\"\"\n",
    "\n",
    "    for nombre_tanque, galones in fuel_reservoirs.items():\n",
    "        Reporte_principal += f\"{ nombre_tanque} tanque { galones} galones  \" \n",
    "        return Reporte_principal\n",
    "\n",
    "print(report_mision(\"Luna\", 8, 11, 55,principal=300000, externo=200000))\n",
    "\n",
    "\n"
   ]
  }
 ],
 "metadata": {
  "interpreter": {
   "hash": "4e35fe89c123769aea2e17639aa854b39a3fc855ab009d90aa556ab43868b3fa"
  },
  "kernelspec": {
   "display_name": "Python 3.9.10 64-bit (windows store)",
   "language": "python",
   "name": "python3"
  },
  "language_info": {
   "codemirror_mode": {
    "name": "ipython",
    "version": 3
   },
   "file_extension": ".py",
   "mimetype": "text/x-python",
   "name": "python",
   "nbconvert_exporter": "python",
   "pygments_lexer": "ipython3",
   "version": "3.9.10"
  },
  "orig_nbformat": 4
 },
 "nbformat": 4,
 "nbformat_minor": 2
}
