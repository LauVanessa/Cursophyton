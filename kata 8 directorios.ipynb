{
 "cells": [
  {
   "cell_type": "markdown",
   "metadata": {},
   "source": [
    "# Diccionarios"
   ]
  },
  {
   "cell_type": "code",
   "execution_count": 134,
   "metadata": {},
   "outputs": [
    {
     "name": "stdout",
     "output_type": "stream",
     "text": [
      "Mars has 2 Moons\n",
      "Mars has a polar circumference of 6752\n",
      "------------------------------------------------------------\n",
      "dict_values([0, 0, 1, 2, 79, 82, 27, 14, 5, 2, 1, 1])\n",
      "total planets 12\n",
      "0\n",
      "0\n",
      "1\n",
      "3\n",
      "82\n",
      "164\n",
      "191\n",
      "205\n",
      "210\n",
      "212\n",
      "213\n",
      "214\n",
      "the average is: 17.833333333333332\n"
     ]
    }
   ],
   "source": [
    "planet= {\n",
    "    'name':'Mars', 'Moons': 2\n",
    "    }\n",
    "print(f\"\"\"{planet['name']} has {planet['Moons']} Moons\"\"\")\n",
    "planet['circumference km']={\n",
    "    'polar': 6752,'equatorial': 6792\n",
    "}\n",
    "print(f\"\"\"{planet['name']} has a polar circumference of {planet['circumference km']['polar']}\"\"\")\n",
    "print('-'*60)\n",
    "\n",
    "planet_moons = {\n",
    "    'mercury': 0, 'venus': 0, 'earth': 1,'mars': 2,\n",
    "    'jupiter': 79, 'saturn': 82, 'uranus': 27,'neptune': 14,\n",
    "    'pluto': 5,'haumea': 2,'makemake': 1,'eris': 1\n",
    "}\n",
    "\n",
    "print(planet_moons.values())\n",
    "moons = planet_moons.values()\n",
    "planets = len(planet_moons.keys())\n",
    "print ('total planets', planets)\n",
    "\n",
    "total_moons = 0\n",
    "for moons in moons:\n",
    "    total_moons =(total_moons + moons)\n",
    "    print (total_moons)\n",
    "\n",
    "prom=total_moons/planets\n",
    "print('the average is:', prom)\n",
    "    \n"
   ]
  }
 ],
 "metadata": {
  "interpreter": {
   "hash": "4e35fe89c123769aea2e17639aa854b39a3fc855ab009d90aa556ab43868b3fa"
  },
  "kernelspec": {
   "display_name": "Python 3.9.10 64-bit (windows store)",
   "language": "python",
   "name": "python3"
  },
  "language_info": {
   "codemirror_mode": {
    "name": "ipython",
    "version": 3
   },
   "file_extension": ".py",
   "mimetype": "text/x-python",
   "name": "python",
   "nbconvert_exporter": "python",
   "pygments_lexer": "ipython3",
   "version": "3.9.10"
  },
  "orig_nbformat": 4
 },
 "nbformat": 4,
 "nbformat_minor": 2
}
