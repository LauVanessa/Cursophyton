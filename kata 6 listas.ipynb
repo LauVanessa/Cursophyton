{
 "cells": [
  {
   "cell_type": "markdown",
   "metadata": {},
   "source": [
    "# Lista de planetas"
   ]
  },
  {
   "cell_type": "code",
   "execution_count": 7,
   "metadata": {},
   "outputs": [
    {
     "name": "stdout",
     "output_type": "stream",
     "text": [
      "The first planet is Mercury\n",
      "The second planet is Venus\n",
      "The third planet is Earth\n",
      "The fourt planet is Mars\n",
      "The fifth planet is Jupiter\n",
      "The sixth planet is Saturn\n",
      "The seventh planet is Uranus\n",
      "The eighth planet is Neptune\n",
      "The ninth planet is Pluto\n",
      "There are actually 9 planets in the solar system.\n",
      "------------------------------------------------------------\n",
      "planets closest to the sun  Mars\n",
      "['Mercury', 'Venus', 'Earth']\n",
      "plants farther from the sun Mars\n",
      "['Jupiter', 'Saturn', 'Uranus', 'Neptune', 'Pluto']\n"
     ]
    }
   ],
   "source": [
    "planets = ['Mercury', 'Venus', 'Earth', 'Mars', 'Jupiter', 'Saturn', 'Uranus', 'Neptune']\n",
    "print('The first planet is', planets[0])\n",
    "print('The second planet is', planets[1])\n",
    "print('The third planet is', planets[2])\n",
    "print('The fourt planet is', planets[3])\n",
    "print('The fifth planet is', planets[4])\n",
    "print('The sixth planet is', planets[5])\n",
    "print('The seventh planet is', planets[6])\n",
    "print('The eighth planet is', planets[7])\n",
    "\n",
    "planets.append('Pluto')\n",
    "print('The ninth planet is', planets[8])\n",
    "\n",
    "number_of_planets = len(planets)\n",
    "print('There are actually', number_of_planets, 'planets in the solar system.')\n",
    "print('-'*60)\n",
    "\n",
    "\n",
    "name_planet = input('Please enter the name of the planet (with a capital letter')\n",
    "\n",
    "planet_index = planets.index(name_planet)\n",
    "print('planets closest to the sun  ' + name_planet)\n",
    "print(planets[0:planet_index])\n",
    "print('plants farther from the sun ' + name_planet)\n",
    "print(planets[planet_index + 1:])\n"
   ]
  }
 ],
 "metadata": {
  "interpreter": {
   "hash": "4e35fe89c123769aea2e17639aa854b39a3fc855ab009d90aa556ab43868b3fa"
  },
  "kernelspec": {
   "display_name": "Python 3.9.10 64-bit (windows store)",
   "language": "python",
   "name": "python3"
  },
  "language_info": {
   "codemirror_mode": {
    "name": "ipython",
    "version": 3
   },
   "file_extension": ".py",
   "mimetype": "text/x-python",
   "name": "python",
   "nbconvert_exporter": "python",
   "pygments_lexer": "ipython3",
   "version": "3.9.10"
  },
  "orig_nbformat": 4
 },
 "nbformat": 4,
 "nbformat_minor": 2
}
