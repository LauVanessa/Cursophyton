{
 "cells": [
  {
   "cell_type": "markdown",
   "metadata": {},
   "source": [
    "# Alertas de asteroides"
   ]
  },
  {
   "cell_type": "code",
   "execution_count": 11,
   "metadata": {},
   "outputs": [
    {
     "name": "stdout",
     "output_type": "stream",
     "text": [
      "¡Alerta! ¡Un asteroide a la Tierra demasiado rápido!\n"
     ]
    }
   ],
   "source": [
    "Asteroide = 49\n",
    "if Asteroide > 25:\n",
    "    print('¡Alerta! ¡Un asteroide a la Tierra demasiado rápido!')\n",
    "else:\n",
    "    print('¡Sigue con tu día!')"
   ]
  },
  {
   "cell_type": "code",
   "execution_count": 10,
   "metadata": {},
   "outputs": [
    {
     "name": "stdout",
     "output_type": "stream",
     "text": [
      "¡Nada que ver aquí!\n"
     ]
    }
   ],
   "source": [
    "Asteroide=19\n",
    "if Asteroide>20:\n",
    "    print('¡Miren! ¡Hay una luz en el cielo!')\n",
    "elif Asteroide == 20:\n",
    "    print('¡Miren! ¡Hay una luz en el cielo!')\n",
    "else:\n",
    "    print('¡Nada que ver aquí!')"
   ]
  },
  {
   "cell_type": "code",
   "execution_count": 9,
   "metadata": {},
   "outputs": [
    {
     "name": "stdout",
     "output_type": "stream",
     "text": [
      "Nada que ver aquí :)\n"
     ]
    }
   ],
   "source": [
    "velocidad_Asteroide = 15\n",
    "tamano_Asteroide = 20\n",
    "if velocidad_Asteroide> 25 and tamano_Asteroide > 25:\n",
    "    print('¡Alerta! ¡Un asteroide a la Tierra demasiado rápido!')\n",
    "elif velocidad_Asteroide >= 20:\n",
    "    print('¡Miren! ¡Hay una luz en el cielo!')\n",
    "elif tamano_Asteroide < 25:\n",
    "    print('Nada que ver aquí :)')\n",
    "else:\n",
    "    print('Nada que ver aquí :)')"
   ]
  }
 ],
 "metadata": {
  "interpreter": {
   "hash": "4e35fe89c123769aea2e17639aa854b39a3fc855ab009d90aa556ab43868b3fa"
  },
  "kernelspec": {
   "display_name": "Python 3.9.10 64-bit (windows store)",
   "language": "python",
   "name": "python3"
  },
  "language_info": {
   "codemirror_mode": {
    "name": "ipython",
    "version": 3
   },
   "file_extension": ".py",
   "mimetype": "text/x-python",
   "name": "python",
   "nbconvert_exporter": "python",
   "pygments_lexer": "ipython3",
   "version": "3.9.10"
  },
  "orig_nbformat": 4
 },
 "nbformat": 4,
 "nbformat_minor": 2
}
